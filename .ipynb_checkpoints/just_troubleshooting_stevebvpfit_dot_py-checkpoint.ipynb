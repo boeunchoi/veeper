{
 "cells": [
  {
   "cell_type": "code",
   "execution_count": 3,
   "metadata": {},
   "outputs": [
    {
     "name": "stdout",
     "output_type": "stream",
     "text": [
      "read_sets: Using set file -- \n",
      "  /Users/reformedfolloweroftheichorgodbel-shamharoth/python/linetools/linetools/lists/sets/llist_v1.2.ascii\n",
      "Loading abundances from Asplund2009\n",
      "Abundances are relative by number on a logarithmic scale with H=12\n",
      "linetools.lists.parse: Reading linelist --- \n",
      "   /Users/reformedfolloweroftheichorgodbel-shamharoth/python/linetools/linetools/data/lines/morton03_table2.fits.gz\n",
      "linetools.lists.parse: Reading linelist --- \n",
      "   /Users/reformedfolloweroftheichorgodbel-shamharoth/python/linetools/linetools/data/lines/verner96_tab1.fits.gz\n"
     ]
    },
    {
     "name": "stderr",
     "output_type": "stream",
     "text": [
      "/Users/reformedfolloweroftheichorgodbel-shamharoth/Dropbox/veeper/test/joebvp/atomicdata/__init__.py:16: VisibleDeprecationWarning: Reading unicode strings without specifying the encoding argument is deprecated. Set the encoding, use None for the system default.\n",
      "  vernerlist=np.genfromtxt(jbvp_path+'/atomicdata/verner6.txt',dtype=None,delimiter=[10,8,3,4,3,2,9,6])\n",
      "/Users/reformedfolloweroftheichorgodbel-shamharoth/Dropbox/veeper/test/joebvp/atomicdata/atomicdata.py:12: VisibleDeprecationWarning: Reading unicode strings without specifying the encoding argument is deprecated. Set the encoding, use None for the system default.\n",
      "  vernerlist=np.genfromtxt(jbvp_path+'/atomicdata/verner6.txt',dtype=None,delimiter=[10,8,3,4,3,2,9,6])\n"
     ]
    },
    {
     "name": "stdout",
     "output_type": "stream",
     "text": [
      "linetools.lists.parse: Reading linelist --- \n",
      "   /Users/reformedfolloweroftheichorgodbel-shamharoth/python/linetools/linetools/data/lines/morton03_table2.fits.gz\n",
      "linetools.lists.parse: Reading linelist --- \n",
      "   /Users/reformedfolloweroftheichorgodbel-shamharoth/python/linetools/linetools/data/lines/verner96_tab1.fits.gz\n",
      "joebvp.makevoigt: No local joebvp_cfg.py found, using default cfg.py file from joebvp.\n",
      "joebvp.VPmeasure: No local joebvp_cfg.py found, using default cfg.py file from joebvp.\n",
      "joebvp.makevoigt: No local joebvp_cfg.py found, using default cfg.py file from joebvp.\n",
      "joebvp.utils: No local joebvp_cfg.py found, using default cfg.py file from joebvp.\n",
      "joebvp.joebvpfit: No local joebvp_cfg.py found, using default cfg.py file form joebvp.\n",
      "/Users/reformedfolloweroftheichorgodbel-shamharoth/Dropbox/veeper/test/joebvp\n",
      "joebvp.makevoigt: No local joebvp_cfg.py found, using default cfg.py file from joebvp.\n",
      "joebvp.makevoigt: No local joebvp_cfg.py found, using default cfg.py file from joebvp.\n",
      "joebvp.joebvpfit: No local joebvp_cfg.py found, using default cfg.py file form joebvp.\n"
     ]
    }
   ],
   "source": [
    "from PyQt5 import QtGui, QtCore\n",
    "%matplotlib inline\n",
    "import matplotlib.pylab as plt\n",
    "from joebvp import joebgoodies as jbg\n",
    "import numpy as np\n",
    "from scipy.signal import convolve\n",
    "from scipy.special import wofz\n",
    "from scipy.optimize import least_squares\n",
    "import scipy.stats\n",
    "from joebvp.atomicdata import atomicdata\n",
    "from astropy import constants as const\n",
    "import sys,os\n",
    "try:\n",
    "    import joebvp_cfg as cfg\n",
    "except:\n",
    "    print(\"joebvp.makevoigt: No local joebvp_cfg.py found, using default cfg.py file from joebvp.\")\n",
    "    from joebvp import cfg\n",
    "from sklearn.cluster import MeanShift, estimate_bandwidth\n",
    "import astropy.units as u\n",
    "from astropy.io import ascii\n",
    "from astropy.table import Table\n",
    "from linetools.spectra.lsf import LSF\n",
    "import pandas as pd\n",
    "from glob import glob\n",
    "from joebvp import VPmeasure\n",
    "from joebvp.makevoigt import voigt, convolvecos\n",
    "\n",
    "### incorporate the functions from this boy into this one\n",
    "#\n",
    "from joebvp import joebvpfit # which needs\n",
    "from joebvp import nmpfit # <-----------\n",
    "#\n",
    "###\n",
    "\n",
    "from joebvp import stevebvpfit\n",
    "from importlib import reload\n",
    "reload(stevebvpfit)\n",
    "reload(joebvpfit)\n",
    "ln2=np.log(2)\n",
    "c=const.c.value/1e3"
   ]
  },
  {
   "cell_type": "code",
   "execution_count": 4,
   "metadata": {},
   "outputs": [],
   "source": [
    "specfile = 'blah.fits'\n",
    "paramfile = 'partest.txt'"
   ]
  },
  {
   "cell_type": "code",
   "execution_count": 5,
   "metadata": {},
   "outputs": [
    {
     "data": {
      "text/plain": [
       "<module 'joebvp.PretendVPmeasure' from '/Users/reformedfolloweroftheichorgodbel-shamharoth/Dropbox/veeper/test/joebvp/PretendVPmeasure.py'>"
      ]
     },
     "execution_count": 5,
     "metadata": {},
     "output_type": "execute_result"
    }
   ],
   "source": [
    "from joebvp import PretendVPmeasure\n",
    "wave,flux,normsig,fitpars,parinfo,linecmts = PretendVPmeasure.go(specfile,paramfile)\n",
    "reload(PretendVPmeasure)"
   ]
  },
  {
   "cell_type": "code",
   "execution_count": 6,
   "metadata": {},
   "outputs": [],
   "source": [
    "def stevebvpfitt(wave, flux, sig, flags, linepars=None, xall=None):\n",
    "\n",
    "    if (linepars is None):\n",
    "        raise ValueError('Must pass parameters in linepars.')\n",
    "        return\n",
    "    \n",
    "    # Only feed to the fitter the parameters that go into the model\n",
    "    partofit=linepars[:5]\n",
    "\n",
    "    parinfo=joebvpfit.prepparinfo(partofit,flags)\n",
    "\n",
    "    npar = len(parinfo)\n",
    "\n",
    "    ## Be sure that PARINFO is of the right type\n",
    "    if (parinfo is not None):\n",
    "        if (type(parinfo) != list):\n",
    "            raise ValueError('PARINFO must be a list of dictionaries.')\n",
    "            return\n",
    "\n",
    "        else:\n",
    "            if (type(parinfo[0]) != dict):\n",
    "                raise ValueError('PARINFO must be a list of dictionaries.')\n",
    "                return\n",
    "\n",
    "    ## If the parameters were not specified at the command line, then\n",
    "    ## extract them from PARINFO\n",
    "\n",
    "    if (xall is None):\n",
    "\n",
    "        xall = stevebvpfit.parameterInformationFunction(parinfo, 'value')\n",
    "        if (xall is None):\n",
    "            raise ValueError('either xall or PARINFO(*)[\"value\"] must be supplied.')\n",
    "    xall = np.ravel(np.array(xall))\n",
    "    \n",
    "    # function that deals with tied and fixed parameters and creates\n",
    "    # indices list to go from non-redundant to redundant array:\n",
    "\n",
    "    indices_and_friends = stevebvpfit.various_indices(parinfo) # this part definitely works!\n",
    "\n",
    "    pfixed, ptied, ifree, indices = indices_and_friends\n",
    "    indices = indices.astype(np.int)\n",
    "    ifree = np.squeeze(ifree)\n",
    "        ## Compose only VARYING parameters\n",
    "    x = np.squeeze(np.take(xall, ifree))  ## x is the set of free parameters\n",
    "\n",
    "    ## LIMITED parameters ?\n",
    "    limited = stevebvpfit.parameterInformationFunction(parinfo, 'limited', default=[0,0], n=npar)\n",
    "    limits = stevebvpfit.parameterInformationFunction(parinfo, 'limits', default=[0.,0.], n=npar)\n",
    "\n",
    "    if (limited is not None) and (limits is not None):\n",
    "\n",
    "        ## Error checking on limits in parinfo\n",
    "        wh = np.nonzero((limited[:,0] & (xall < limits[:,0])) | (limited[:,1] & (xall > limits[:,1])))\n",
    "\n",
    "        if (len(wh[0]) > 0):\n",
    "            raise ValueError('parameters are not within PARINFO limits')\n",
    "            return\n",
    "\n",
    "        wh = np.nonzero((limited[:,0] & limited[:,1]) & (limits[:,0] >= limits[:,1]) & (pfixed == 0))\n",
    "        if (len(wh[0]) > 0):\n",
    "            raise ValueError('PARINFO parameter limits are not consistent')\n",
    "            return\n",
    "\n",
    "        ## Transfer structure values to local variables\n",
    "        qulim = np.take(limited[:,1], ifree)\n",
    "        ulim  = np.take(limits [:,1], ifree)\n",
    "        qllim = np.take(limited[:,0], ifree)\n",
    "        llim  = np.take(limits [:,0], ifree)\n",
    "\n",
    "    # Save the velocity windows to add back to the parameter array\n",
    "    vlim1=linepars[5] ; vlim2=linepars[6]\n",
    "    # Get atomic data\n",
    "    lam,fosc,gam=atomicdata.setatomicdata(linepars[0])\n",
    "    cfg.lams=lam ; cfg.fosc=fosc ; cfg.gam=gam\n",
    "    # Set fit regions\n",
    "    cfg.fitidx = joebvpfit.fitpix(wave, linepars)\n",
    "\n",
    "    # Prep parameters for fitter\n",
    "\n",
    "    partofit=joebvpfit.unfoldpars(partofit)\n",
    "\n",
    "    modelvars={'l':wave,'y':flux,'err':sig}\n",
    "\n",
    "    bnds = (np.squeeze(np.where(qllim==1, llim, -np.inf)), np.squeeze(np.where(qulim==1, ulim, np.inf)))\n",
    "\n",
    "    arg = [xall, ifree, indices, modelvars['l'], modelvars['y'], modelvars['err']]\n",
    "\n",
    "    # here is where fitting happens:\n",
    "\n",
    "    m = least_squares(stevebvpfit.stevevoigterrfunc, x, bounds=bnds, args=arg, kwargs={}, verbose=True)\n",
    "\n",
    "    if m.status <= 0: print('Fitting error:',m.errmsg)\n",
    "\n",
    "    xall_fitted = xall.copy()\n",
    "\n",
    "    xall_fitted[ifree] = m['x'][indices]\n",
    "\n",
    "    fitpars = joebvpfit.foldpars(xall_fitted)\n",
    "    \n",
    "    perr = stevebvpfit.calc_perrors(m.jac,ifree)\n",
    "    \n",
    "    fitperr = joebvpfit.foldpars(perr)\n",
    "    \n",
    "    # what the hell was I trying to do here?\n",
    "    for par in perr:\n",
    "        par = np.ravel(np.array(par))\n",
    "\n",
    "    # Add velocity windows back to parameter array\n",
    "    fitpars.append(vlim1) ; fitpars.append(vlim2)\n",
    "\n",
    "    # part that presents results in a readable format:\n",
    "    print('\\nFit results: \\n')\n",
    "    for i in range(len(fitpars[0])):\n",
    "        print(jbg.tabdelimrow([round(fitpars[0][i],2),jbg.decimalplaces(fitpars[3][i],5),jbg.roundto(fitpars[1][i],5),jbg.roundto(fitpars[2][i],5),jbg.roundto(fitpars[4][i],5)])[:-2])\n",
    "        # okay it does break here, but does that actually matter?\n",
    "        print(jbg.tabdelimrow([' ',' ',' ',round(fitperr[1][i],3),round(fitperr[2][i],3),round(fitperr[4][i],3)]))\n",
    "\n",
    "    return fitpars,fitperr\n",
    "\n",
    "\n",
    "# S U C C E S S !"
   ]
  },
  {
   "cell_type": "code",
   "execution_count": 7,
   "metadata": {},
   "outputs": [
    {
     "name": "stdout",
     "output_type": "stream",
     "text": [
      "Loading abundances from Asplund2009\n",
      "Abundances are relative by number on a logarithmic scale with H=12\n",
      "`xtol` termination condition is satisfied.\n",
      "Function evaluations 30, initial cost 7.0588e+06, final cost 3.5790e-03, first-order optimality 7.76e-06.\n",
      "\n",
      "Fit results: \n",
      "\n",
      "1215.67\t -0.000030\t 9.0000\t 33.300\t 0.11021\n",
      " \t  \t  \t 6.18\t 734.413\t 464.572 \n",
      "\n"
     ]
    }
   ],
   "source": [
    "pars,err = stevebvpfitt(wave, flux, normsig, parinfo, linepars=fitpars, xall=fitpars[:5])"
   ]
  },
  {
   "cell_type": "code",
   "execution_count": 8,
   "metadata": {},
   "outputs": [
    {
     "name": "stdout",
     "output_type": "stream",
     "text": [
      "Loading abundances from Asplund2009\n",
      "Abundances are relative by number on a logarithmic scale with H=12\n",
      "`xtol` termination condition is satisfied.\n",
      "Function evaluations 30, initial cost 7.0588e+06, final cost 3.5790e-03, first-order optimality 7.76e-06.\n",
      "\n",
      "Fit results: \n",
      "\n",
      "1215.67\t -0.000030\t 9.0000\t 33.300\t 0.11021\n",
      " \t  \t  \t 6.18\t 734.413\t 464.572 \n",
      "\n"
     ]
    }
   ],
   "source": [
    "part, errt = stevebvpfit.stevebvpfit_test(wave, flux, normsig, parinfo, linepars=fitpars, xall=fitpars[:5])\n",
    "# the t stands for test!"
   ]
  },
  {
   "cell_type": "markdown",
   "metadata": {},
   "source": [
    "Now let's test it on a spectrum that actually has a feature:"
   ]
  },
  {
   "cell_type": "code",
   "execution_count": 9,
   "metadata": {},
   "outputs": [],
   "source": [
    "specfile = 'thing.fits'"
   ]
  },
  {
   "cell_type": "code",
   "execution_count": 10,
   "metadata": {},
   "outputs": [],
   "source": [
    "wave,flux,normsig,fitpars,parinfo,linecmts = PretendVPmeasure.go(specfile,paramfile)"
   ]
  },
  {
   "cell_type": "code",
   "execution_count": 12,
   "metadata": {},
   "outputs": [
    {
     "name": "stdout",
     "output_type": "stream",
     "text": [
      "Loading abundances from Asplund2009\n",
      "Abundances are relative by number on a logarithmic scale with H=12\n",
      "`ftol` termination condition is satisfied.\n",
      "Function evaluations 21, initial cost 6.1518e+06, final cost 4.8262e+05, first-order optimality 3.70e+01.\n",
      "\n",
      "Fit results: \n",
      "\n",
      "1215.67\t -0.000030\t 12.775\t 13.300\t 6.6357\n",
      " \t  \t  \t 0.001\t 0.067\t 0.036 \n",
      "\n"
     ]
    }
   ],
   "source": [
    "part, errt = stevebvpfit.stevebvpfit_test(wave, flux, normsig, parinfo, linepars=fitpars, xall=fitpars[:5])"
   ]
  },
  {
   "cell_type": "markdown",
   "metadata": {},
   "source": [
    "That does seem a lot more reasonable."
   ]
  },
  {
   "cell_type": "code",
   "execution_count": null,
   "metadata": {},
   "outputs": [],
   "source": []
  }
 ],
 "metadata": {
  "kernelspec": {
   "display_name": "Python 3",
   "language": "python",
   "name": "python3"
  },
  "language_info": {
   "codemirror_mode": {
    "name": "ipython",
    "version": 3
   },
   "file_extension": ".py",
   "mimetype": "text/x-python",
   "name": "python",
   "nbconvert_exporter": "python",
   "pygments_lexer": "ipython3",
   "version": "3.7.3"
  }
 },
 "nbformat": 4,
 "nbformat_minor": 2
}
