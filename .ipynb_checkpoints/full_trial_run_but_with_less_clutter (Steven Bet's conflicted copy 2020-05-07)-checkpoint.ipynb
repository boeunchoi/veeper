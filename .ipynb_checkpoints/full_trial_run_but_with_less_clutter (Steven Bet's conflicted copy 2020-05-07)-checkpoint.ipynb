{
 "cells": [
  {
   "cell_type": "code",
   "execution_count": null,
   "metadata": {},
   "outputs": [],
   "source": [
    "reload(SMB_VPmeasure)\n",
    "reload(SMB_VPmeasure.stevebvpfit)"
   ]
  },
  {
   "cell_type": "code",
   "execution_count": 1,
   "metadata": {},
   "outputs": [
    {
     "name": "stdout",
     "output_type": "stream",
     "text": [
      "read_sets: Using set file -- \n",
      "  /Users/reformedfolloweroftheichorgodbel-shamharoth/python/linetools/linetools/lists/sets/llist_v1.2.ascii\n",
      "Loading abundances from Asplund2009\n",
      "Abundances are relative by number on a logarithmic scale with H=12\n",
      "linetools.lists.parse: Reading linelist --- \n",
      "   /Users/reformedfolloweroftheichorgodbel-shamharoth/python/linetools/linetools/data/lines/morton03_table2.fits.gz\n",
      "linetools.lists.parse: Reading linelist --- \n",
      "   /Users/reformedfolloweroftheichorgodbel-shamharoth/python/linetools/linetools/data/lines/verner96_tab1.fits.gz\n"
     ]
    },
    {
     "name": "stderr",
     "output_type": "stream",
     "text": [
      "/Users/reformedfolloweroftheichorgodbel-shamharoth/Dropbox/veeper/test/joebvp/atomicdata/__init__.py:16: VisibleDeprecationWarning: Reading unicode strings without specifying the encoding argument is deprecated. Set the encoding, use None for the system default.\n",
      "  vernerlist=np.genfromtxt(jbvp_path+'/atomicdata/verner6.txt',dtype=None,delimiter=[10,8,3,4,3,2,9,6])\n"
     ]
    },
    {
     "name": "stdout",
     "output_type": "stream",
     "text": [
      "joebvp.VPmeasure: No local joebvp_cfg.py found, using default cfg.py file from joebvp.\n",
      "joebvp.makevoigt: No local joebvp_cfg.py found, using default cfg.py file from joebvp.\n",
      "joebvp.utils: No local joebvp_cfg.py found, using default cfg.py file from joebvp.\n",
      "joebvp.joebvpfit: No local joebvp_cfg.py found, using default cfg.py file form joebvp.\n",
      "/Users/reformedfolloweroftheichorgodbel-shamharoth/Dropbox/veeper/test/joebvp\n",
      "joebvp.VPmeasure: No local joebvp_cfg.py found, using default cfg.py file from joebvp.\n",
      "linetools.lists.parse: Reading linelist --- \n",
      "   /Users/reformedfolloweroftheichorgodbel-shamharoth/python/linetools/linetools/data/lines/morton03_table2.fits.gz\n",
      "linetools.lists.parse: Reading linelist --- \n",
      "   /Users/reformedfolloweroftheichorgodbel-shamharoth/python/linetools/linetools/data/lines/verner96_tab1.fits.gz\n",
      "joebvp.makevoigt: No local joebvp_cfg.py found, using default cfg.py file from joebvp.\n"
     ]
    },
    {
     "name": "stderr",
     "output_type": "stream",
     "text": [
      "/Users/reformedfolloweroftheichorgodbel-shamharoth/Dropbox/veeper/test/joebvp/atomicdata/atomicdata.py:12: VisibleDeprecationWarning: Reading unicode strings without specifying the encoding argument is deprecated. Set the encoding, use None for the system default.\n",
      "  vernerlist=np.genfromtxt(jbvp_path+'/atomicdata/verner6.txt',dtype=None,delimiter=[10,8,3,4,3,2,9,6])\n"
     ]
    },
    {
     "name": "stdout",
     "output_type": "stream",
     "text": [
      "/Users/reformedfolloweroftheichorgodbel-shamharoth/Dropbox/veeper/test/joebvp\n"
     ]
    }
   ],
   "source": [
    "from joebvp import VPmeasure, SMB_VPmeasure\n",
    "from importlib import reload"
   ]
  },
  {
   "cell_type": "code",
   "execution_count": 2,
   "metadata": {},
   "outputs": [],
   "source": [
    "J1022pars1 = 'J1022+0132_input1.txt'\n",
    "J1022pars2 = 'J1022+0132_input2.txt'\n",
    "J1022pars3 = 'J1022+0132_input3.txt'\n",
    "J1022pars4 = 'J1022+0132_input4.txt'\n",
    "J1022pars5 = 'J1022+0132_input5.txt'\n",
    "J1022spec = 'J1022+0132_nbin3_norm.fits'"
   ]
  },
  {
   "cell_type": "code",
   "execution_count": null,
   "metadata": {
    "scrolled": false
   },
   "outputs": [],
   "source": [
    "SMB_VPmeasure.go(J1022spec, J1022pars3)"
   ]
  },
  {
   "cell_type": "code",
   "execution_count": null,
   "metadata": {},
   "outputs": [],
   "source": [
    "VPmeasure.go(J1022spec, J1022pars4)"
   ]
  },
  {
   "cell_type": "code",
   "execution_count": null,
   "metadata": {
    "scrolled": true
   },
   "outputs": [],
   "source": [
    "SMB_VPmeasure.go(J1022spec, J1022pars5)"
   ]
  },
  {
   "cell_type": "code",
   "execution_count": null,
   "metadata": {},
   "outputs": [],
   "source": [
    "SMB_VPmeasure.go(J1022spec, J1022pars1)"
   ]
  },
  {
   "cell_type": "code",
   "execution_count": null,
   "metadata": {
    "scrolled": true
   },
   "outputs": [],
   "source": [
    "SMB_VPmeasure.go(J1022spec, J1022pars2)"
   ]
  },
  {
   "cell_type": "code",
   "execution_count": null,
   "metadata": {},
   "outputs": [],
   "source": [
    "SMB_VPmeasure.batch_fit(J1022spec, [J1022pars1])"
   ]
  },
  {
   "cell_type": "code",
   "execution_count": 3,
   "metadata": {},
   "outputs": [
    {
     "name": "stdout",
     "output_type": "stream",
     "text": [
      "Loading abundances from Asplund2009\n",
      "Abundances are relative by number on a logarithmic scale with H=12\n",
      "Loading abundances from Asplund2009\n",
      "Abundances are relative by number on a logarithmic scale with H=12\n",
      "`ftol` termination condition is satisfied.\n",
      "Function evaluations 12, initial cost 4.3442e+01, final cost 3.9061e+01, first-order optimality 5.43e-04.\n",
      "\n",
      "Fit results: \n",
      "\n",
      "1215.67\t 0.160350\t 12.983\t 12.153\t -14.926\n",
      " \t  \t  \t 0.129\t 8.094\t 4.536 \n",
      "\n",
      "Iteration 1 -\n",
      "Loading abundances from Asplund2009\n",
      "Abundances are relative by number on a logarithmic scale with H=12\n",
      "`ftol` termination condition is satisfied.\n",
      "Function evaluations 12, initial cost 4.3442e+01, final cost 3.9061e+01, first-order optimality 5.43e-04.\n",
      "\n",
      "Fit results: \n",
      "\n",
      "1215.67\t 0.160350\t 12.983\t 12.153\t -14.926\n",
      " \t  \t  \t 0.129\t 8.094\t 4.536 \n",
      "\n",
      "Iteration 2 -\n",
      "Fit converged after 2 iterations.\n",
      "VPmeasure: Fit converged: J1022+0132_input1.txt\n",
      "Line parameters written to:\n",
      "J1022+0132_input1.VP\n",
      "Wrote spectrum to J1022+0132_input1_VPmodel.fits\n",
      "Loading abundances from Asplund2009\n",
      "Abundances are relative by number on a logarithmic scale with H=12\n"
     ]
    },
    {
     "name": "stderr",
     "output_type": "stream",
     "text": [
      "WARNING: AstropyDeprecationWarning: The truth value of a Quantity is ambiguous. In the future this will raise a ValueError. [astropy.units.quantity]\n"
     ]
    },
    {
     "name": "stdout",
     "output_type": "stream",
     "text": [
      "Wrote spectrum to J1022+0132_input1_inspect.fits\n",
      "Loading abundances from Asplund2009\n",
      "Abundances are relative by number on a logarithmic scale with H=12\n",
      "Loading abundances from Asplund2009\n",
      "Abundances are relative by number on a logarithmic scale with H=12\n",
      "Loading abundances from Asplund2009\n",
      "Abundances are relative by number on a logarithmic scale with H=12\n",
      "Loading abundances from Asplund2009\n",
      "Abundances are relative by number on a logarithmic scale with H=12\n",
      "`ftol` termination condition is satisfied.\n",
      "Function evaluations 16, initial cost 2.0267e+03, final cost 6.5043e+02, first-order optimality 1.23e-03.\n",
      "\n",
      "Fit results: \n",
      "\n",
      "1025.72\t 0.160350\t 17.463\t 20.000\t 50.000\n",
      " \t  \t  \t 0.196\t 0.894\t 1.12 \n",
      "\n",
      "1215.67\t 0.160350\t 17.463\t 20.000\t 50.000\n",
      " \t  \t  \t 0.0\t 0.0\t 0.0 \n",
      "\n",
      "Iteration 1 -\n",
      "Loading abundances from Asplund2009\n",
      "Abundances are relative by number on a logarithmic scale with H=12\n",
      "Loading abundances from Asplund2009\n",
      "Abundances are relative by number on a logarithmic scale with H=12\n",
      "`ftol` termination condition is satisfied.\n",
      "Function evaluations 16, initial cost 2.0267e+03, final cost 6.5043e+02, first-order optimality 1.23e-03.\n",
      "\n",
      "Fit results: \n",
      "\n",
      "1025.72\t 0.160350\t 17.463\t 20.000\t 50.000\n",
      " \t  \t  \t 0.196\t 0.894\t 1.12 \n",
      "\n",
      "1215.67\t 0.160350\t 17.463\t 20.000\t 50.000\n",
      " \t  \t  \t 0.0\t 0.0\t 0.0 \n",
      "\n",
      "Iteration 2 -\n",
      "Fit converged after 2 iterations.\n",
      "VPmeasure: Fit converged: J1022+0132_input2.txt\n",
      "Line parameters written to:\n",
      "J1022+0132_input2.VP\n",
      "Wrote spectrum to J1022+0132_input2_VPmodel.fits\n",
      "Loading abundances from Asplund2009\n",
      "Abundances are relative by number on a logarithmic scale with H=12\n"
     ]
    },
    {
     "name": "stderr",
     "output_type": "stream",
     "text": [
      "WARNING: AstropyDeprecationWarning: The truth value of a Quantity is ambiguous. In the future this will raise a ValueError. [astropy.units.quantity]\n"
     ]
    },
    {
     "name": "stdout",
     "output_type": "stream",
     "text": [
      "Wrote spectrum to J1022+0132_input2_inspect.fits\n",
      "Loading abundances from Asplund2009\n",
      "Abundances are relative by number on a logarithmic scale with H=12\n",
      "Loading abundances from Asplund2009\n",
      "Abundances are relative by number on a logarithmic scale with H=12\n",
      "Loading abundances from Asplund2009\n",
      "Abundances are relative by number on a logarithmic scale with H=12\n",
      "Loading abundances from Asplund2009\n",
      "Abundances are relative by number on a logarithmic scale with H=12\n",
      "Loading abundances from Asplund2009\n",
      "Abundances are relative by number on a logarithmic scale with H=12\n",
      "Loading abundances from Asplund2009\n",
      "Abundances are relative by number on a logarithmic scale with H=12\n",
      "Loading abundances from Asplund2009\n",
      "Abundances are relative by number on a logarithmic scale with H=12\n",
      "Loading abundances from Asplund2009\n",
      "Abundances are relative by number on a logarithmic scale with H=12\n",
      "`ftol` termination condition is satisfied.\n",
      "Function evaluations 9, initial cost 1.3368e+02, final cost 1.3267e+02, first-order optimality 5.34e-03.\n",
      "\n",
      "Fit results: \n",
      "\n",
      "1215.67\t 0.418820\t 13.510\t 22.635\t 7.7848\n",
      " \t  \t  \t 0.175\t 10.118\t 8.625 \n",
      "\n",
      "685.51\t 0.742540\t 13.944\t 10.547\t -2.5275\n",
      " \t  \t  \t 0.123\t 4.233\t 2.826 \n",
      "\n",
      "763.34\t 0.742540\t 13.944\t 10.547\t -2.5275\n",
      " \t  \t  \t 0.0\t 0.0\t 0.0 \n",
      "\n",
      "989.8\t 0.742540\t 13.944\t 10.547\t -2.5275\n",
      " \t  \t  \t 0.0\t 0.0\t 0.0 \n",
      "\n",
      "Iteration 1 -\n",
      "Loading abundances from Asplund2009\n",
      "Abundances are relative by number on a logarithmic scale with H=12\n",
      "Loading abundances from Asplund2009\n",
      "Abundances are relative by number on a logarithmic scale with H=12\n",
      "Loading abundances from Asplund2009\n",
      "Abundances are relative by number on a logarithmic scale with H=12\n",
      "Loading abundances from Asplund2009\n",
      "Abundances are relative by number on a logarithmic scale with H=12\n",
      "`ftol` termination condition is satisfied.\n",
      "Function evaluations 9, initial cost 1.3368e+02, final cost 1.3267e+02, first-order optimality 5.34e-03.\n",
      "\n",
      "Fit results: \n",
      "\n",
      "1215.67\t 0.418820\t 13.510\t 22.635\t 7.7848\n",
      " \t  \t  \t 0.175\t 10.118\t 8.625 \n",
      "\n",
      "685.51\t 0.742540\t 13.944\t 10.547\t -2.5275\n",
      " \t  \t  \t 0.123\t 4.233\t 2.826 \n",
      "\n",
      "763.34\t 0.742540\t 13.944\t 10.547\t -2.5275\n",
      " \t  \t  \t 0.0\t 0.0\t 0.0 \n",
      "\n",
      "989.8\t 0.742540\t 13.944\t 10.547\t -2.5275\n",
      " \t  \t  \t 0.0\t 0.0\t 0.0 \n",
      "\n",
      "Iteration 2 -\n",
      "Fit converged after 2 iterations.\n",
      "VPmeasure: Fit converged: J1022+0132_input3.txt\n",
      "Line parameters written to:\n",
      "J1022+0132_input3.VP\n",
      "Wrote spectrum to J1022+0132_input3_VPmodel.fits\n",
      "Loading abundances from Asplund2009\n",
      "Abundances are relative by number on a logarithmic scale with H=12\n"
     ]
    },
    {
     "name": "stderr",
     "output_type": "stream",
     "text": [
      "WARNING: AstropyDeprecationWarning: The truth value of a Quantity is ambiguous. In the future this will raise a ValueError. [astropy.units.quantity]\n"
     ]
    },
    {
     "name": "stdout",
     "output_type": "stream",
     "text": [
      "Wrote spectrum to J1022+0132_input3_inspect.fits\n",
      "Loading abundances from Asplund2009\n",
      "Abundances are relative by number on a logarithmic scale with H=12\n",
      "Loading abundances from Asplund2009\n",
      "Abundances are relative by number on a logarithmic scale with H=12\n",
      "Loading abundances from Asplund2009\n",
      "Abundances are relative by number on a logarithmic scale with H=12\n",
      "Loading abundances from Asplund2009\n",
      "Abundances are relative by number on a logarithmic scale with H=12\n",
      "`ftol` termination condition is satisfied.\n",
      "Function evaluations 26, initial cost 1.6052e+01, final cost 1.4534e+01, first-order optimality 9.97e-05.\n",
      "\n",
      "Fit results: \n",
      "\n",
      "1215.67\t 0.418820\t 13.416\t 12.486\t 15.362\n",
      " \t  \t  \t 0.178\t 10.79\t 6.962 \n",
      "\n",
      "989.8\t 0.742540\t 14.879\t 5.0421\t -5.6351\n",
      " \t  \t  \t 239.13\t 450.244\t 12.033 \n",
      "\n",
      "Iteration 1 -\n",
      "Loading abundances from Asplund2009\n",
      "Abundances are relative by number on a logarithmic scale with H=12\n",
      "Loading abundances from Asplund2009\n",
      "Abundances are relative by number on a logarithmic scale with H=12\n",
      "`ftol` termination condition is satisfied.\n",
      "Function evaluations 26, initial cost 1.6052e+01, final cost 1.4534e+01, first-order optimality 9.97e-05.\n",
      "\n",
      "Fit results: \n",
      "\n",
      "1215.67\t 0.418820\t 13.416\t 12.486\t 15.362\n",
      " \t  \t  \t 0.178\t 10.79\t 6.962 \n",
      "\n",
      "989.8\t 0.742540\t 14.879\t 5.0421\t -5.6351\n",
      " \t  \t  \t 239.13\t 450.244\t 12.033 \n",
      "\n",
      "Iteration 2 -\n",
      "Fit converged after 2 iterations.\n",
      "VPmeasure: Fit converged: J1022+0132_input4.txt\n",
      "Line parameters written to:\n",
      "J1022+0132_input4.VP\n",
      "Wrote spectrum to J1022+0132_input4_VPmodel.fits\n",
      "Loading abundances from Asplund2009\n",
      "Abundances are relative by number on a logarithmic scale with H=12\n"
     ]
    },
    {
     "name": "stderr",
     "output_type": "stream",
     "text": [
      "WARNING: AstropyDeprecationWarning: The truth value of a Quantity is ambiguous. In the future this will raise a ValueError. [astropy.units.quantity]\n"
     ]
    },
    {
     "name": "stdout",
     "output_type": "stream",
     "text": [
      "Wrote spectrum to J1022+0132_input4_inspect.fits\n",
      "\n",
      "VPmeasure: 4/4 fits converged, 0/4 failed (see log for details).\n",
      "\n",
      "VPmeasure: concatenating individual outputs and creating figures for inspection.\n"
     ]
    },
    {
     "name": "stderr",
     "output_type": "stream",
     "text": [
      "/Users/reformedfolloweroftheichorgodbel-shamharoth/Dropbox/veeper/test/joebvp/utils.py:141: VisibleDeprecationWarning: Reading unicode strings without specifying the encoding argument is deprecated. Set the encoding, use None for the system default.\n",
      "  lstarr=np.genfromtxt(filelist,dtype=None)\n"
     ]
    },
    {
     "name": "stdout",
     "output_type": "stream",
     "text": [
      "Loading abundances from Asplund2009\n",
      "Abundances are relative by number on a logarithmic scale with H=12\n",
      "Problems lie in the column densities and b values\n"
     ]
    },
    {
     "name": "stderr",
     "output_type": "stream",
     "text": [
      "/Users/reformedfolloweroftheichorgodbel-shamharoth/python/linetools/linetools/isgm/abscomponent.py:201: UserWarning: The line measurements for the lines in this component may not be consistent with one another.\n",
      "  warnings.warn('The line measurements for the lines in this component'\n",
      "WARNING: AstropyDeprecationWarning: The truth value of a Quantity is ambiguous. In the future this will raise a ValueError. [astropy.units.quantity]\n"
     ]
    },
    {
     "name": "stdout",
     "output_type": "stream",
     "text": [
      "Wrote spectrum to FitInspection.fits\n",
      "VPmeasure: Done.\n"
     ]
    }
   ],
   "source": [
    "SMB_VPmeasure.batch_fit(J1022spec, [J1022pars1,J1022pars2,J1022pars3,J1022pars4])"
   ]
  },
  {
   "cell_type": "code",
   "execution_count": null,
   "metadata": {},
   "outputs": [],
   "source": [
    "SMB_VPmeasure.batch_fit(J1022spec, [J1022pars4])"
   ]
  },
  {
   "cell_type": "code",
   "execution_count": 16,
   "metadata": {},
   "outputs": [],
   "source": [
    "import numpy as np\n",
    "from astropy.io import fits\n",
    "from glob import glob"
   ]
  },
  {
   "cell_type": "code",
   "execution_count": 17,
   "metadata": {},
   "outputs": [],
   "source": [
    "blah = fits.getdata('FitInspection.fits')"
   ]
  },
  {
   "cell_type": "code",
   "execution_count": 18,
   "metadata": {},
   "outputs": [
    {
     "data": {
      "text/plain": [
       "array([0.99999964, 0.99999964, 0.99999964, ..., 0.9999999 , 0.9999999 ,\n",
       "       0.9999999 ], dtype=float32)"
      ]
     },
     "execution_count": 18,
     "metadata": {},
     "output_type": "execute_result"
    }
   ],
   "source": [
    "blah"
   ]
  },
  {
   "cell_type": "code",
   "execution_count": 29,
   "metadata": {},
   "outputs": [],
   "source": [
    "x = np.arange(0,1,(1/len(blah)))"
   ]
  },
  {
   "cell_type": "code",
   "execution_count": 30,
   "metadata": {},
   "outputs": [],
   "source": [
    "%matplotlib inline\n",
    "\n",
    "import matplotlib.pylab as plt"
   ]
  },
  {
   "cell_type": "code",
   "execution_count": 49,
   "metadata": {},
   "outputs": [
    {
     "data": {
      "text/plain": [
       "[<matplotlib.lines.Line2D at 0x1c25f66da0>]"
      ]
     },
     "execution_count": 49,
     "metadata": {},
     "output_type": "execute_result"
    },
    {
     "data": {
      "image/png": "[encoded data removed]",
      "text/plain": [
       "<Figure size 432x288 with 1 Axes>"
      ]
     },
     "metadata": {
      "needs_background": "light"
     },
     "output_type": "display_data"
    }
   ],
   "source": [
    "plt.plot(x,blah,'-o',markersize=2.5)"
   ]
  },
  {
   "cell_type": "code",
   "execution_count": 39,
   "metadata": {},
   "outputs": [],
   "source": [
    "# I'm sure they'd look like correctly-fitted absorption lines if I put more effort into it."
   ]
  },
  {
   "cell_type": "code",
   "execution_count": null,
   "metadata": {},
   "outputs": [],
   "source": []
  }
 ],
 "metadata": {
  "kernelspec": {
   "display_name": "Python 3",
   "language": "python",
   "name": "python3"
  },
  "language_info": {
   "codemirror_mode": {
    "name": "ipython",
    "version": 3
   },
   "file_extension": ".py",
   "mimetype": "text/x-python",
   "name": "python",
   "nbconvert_exporter": "python",
   "pygments_lexer": "ipython3",
   "version": "3.7.3"
  }
 },
 "nbformat": 4,
 "nbformat_minor": 2
}
