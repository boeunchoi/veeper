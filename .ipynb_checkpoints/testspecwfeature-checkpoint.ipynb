{
 "cells": [
  {
   "cell_type": "code",
   "execution_count": 2,
   "metadata": {},
   "outputs": [
    {
     "name": "stdout",
     "output_type": "stream",
     "text": [
      "read_sets: Using set file -- \n",
      "  /Users/reformedfolloweroftheichorgodbel-shamharoth/python/linetools/linetools/lists/sets/llist_v1.2.ascii\n",
      "Loading abundances from Asplund2009\n",
      "Abundances are relative by number on a logarithmic scale with H=12\n",
      "linetools.lists.parse: Reading linelist --- \n",
      "   /Users/reformedfolloweroftheichorgodbel-shamharoth/python/linetools/linetools/data/lines/morton03_table2.fits.gz\n",
      "linetools.lists.parse: Reading linelist --- \n",
      "   /Users/reformedfolloweroftheichorgodbel-shamharoth/python/linetools/linetools/data/lines/verner96_tab1.fits.gz\n"
     ]
    },
    {
     "name": "stderr",
     "output_type": "stream",
     "text": [
      "/Users/reformedfolloweroftheichorgodbel-shamharoth/Dropbox/veeper/test/joebvp/atomicdata/__init__.py:16: VisibleDeprecationWarning: Reading unicode strings without specifying the encoding argument is deprecated. Set the encoding, use None for the system default.\n",
      "  vernerlist=np.genfromtxt(jbvp_path+'/atomicdata/verner6.txt',dtype=None,delimiter=[10,8,3,4,3,2,9,6])\n",
      "/Users/reformedfolloweroftheichorgodbel-shamharoth/Dropbox/veeper/test/joebvp/atomicdata/atomicdata.py:12: VisibleDeprecationWarning: Reading unicode strings without specifying the encoding argument is deprecated. Set the encoding, use None for the system default.\n",
      "  vernerlist=np.genfromtxt(jbvp_path+'/atomicdata/verner6.txt',dtype=None,delimiter=[10,8,3,4,3,2,9,6])\n"
     ]
    },
    {
     "name": "stdout",
     "output_type": "stream",
     "text": [
      "linetools.lists.parse: Reading linelist --- \n",
      "   /Users/reformedfolloweroftheichorgodbel-shamharoth/python/linetools/linetools/data/lines/morton03_table2.fits.gz\n",
      "linetools.lists.parse: Reading linelist --- \n",
      "   /Users/reformedfolloweroftheichorgodbel-shamharoth/python/linetools/linetools/data/lines/verner96_tab1.fits.gz\n",
      "joebvp.makevoigt: No local joebvp_cfg.py found, using default cfg.py file from joebvp.\n",
      "joebvp.VPmeasure: No local joebvp_cfg.py found, using default cfg.py file from joebvp.\n",
      "joebvp.makevoigt: No local joebvp_cfg.py found, using default cfg.py file from joebvp.\n",
      "joebvp.utils: No local joebvp_cfg.py found, using default cfg.py file from joebvp.\n",
      "joebvp.joebvpfit: No local joebvp_cfg.py found, using default cfg.py file form joebvp.\n",
      "/Users/reformedfolloweroftheichorgodbel-shamharoth/Dropbox/veeper/test/joebvp\n"
     ]
    }
   ],
   "source": [
    "#######################################################################\n",
    "###\n",
    "###  convenience function: cosvoigt(waves,params)\n",
    "###  params format (each entry a list): [restwave,coldens,bval,z,vel]\n",
    "###  restwave (of an actual line), column density, bval - width of Gaussian, z (bulk), velocity (relative to z)\n",
    "###\n",
    "#######################################################################\n",
    "# get wavelength from some cos spectrum, use segment of +-10 angstrom of feature <--- prior to parameters\n",
    "\n",
    "from __future__ import print_function, absolute_import, division, unicode_literals\n",
    "\n",
    "from PyQt5 import QtGui, QtCore\n",
    "\n",
    "from joebvp import joebgoodies as jbg\n",
    "import numpy as np\n",
    "from scipy.signal import convolve\n",
    "from scipy.special import wofz\n",
    "from scipy.optimize import least_squares\n",
    "import scipy.stats\n",
    "from joebvp.atomicdata import atomicdata\n",
    "from astropy import constants as const\n",
    "import sys,os\n",
    "try:\n",
    "    import joebvp_cfg as cfg\n",
    "except:\n",
    "    print(\"joebvp.makevoigt: No local joebvp_cfg.py found, using default cfg.py file from joebvp.\")\n",
    "    from joebvp import cfg\n",
    "from sklearn.cluster import MeanShift, estimate_bandwidth\n",
    "import astropy.units as u\n",
    "from astropy.io import ascii\n",
    "from astropy.table import Table\n",
    "from linetools.spectra.lsf import LSF\n",
    "import pandas as pd\n",
    "from glob import glob\n",
    "from joebvp import VPmeasure\n",
    "from joebvp.makevoigt import voigt, convolvecos\n",
    "# joebvpfit.joebvpfit needs this one:\n",
    "from joebvp import nmpfit\n",
    "\n",
    "ln2=np.log(2)\n",
    "c=const.c.value/1e3"
   ]
  },
  {
   "cell_type": "code",
   "execution_count": 4,
   "metadata": {},
   "outputs": [],
   "source": [
    "# Some random line parameters:\n",
    "wrest,col_dens,b,zfit,vcenter= 1215.67,14.0, 23.3, -3e-05, 0\n",
    "\n",
    "linelist = np.atleast_2d([wrest, col_dens, b, zfit, vcenter])\n",
    "vlim = 64.0\n",
    "# oops need that x-axis component too:\n",
    "waves = np.linspace(wrest-10, wrest+10, 2001)\n",
    "fluxx = np.full(2001,1, dtype=float)\n",
    "#waves = np.ndarray([waves], dtype=float)\n",
    "#fluxx = np.ndarray([flux], dtype=float)"
   ]
  },
  {
   "cell_type": "code",
   "execution_count": 11,
   "metadata": {},
   "outputs": [],
   "source": [
    "fluxx[999], fluxx[1000], fluxx[1001] = 0.5, 0.1, 0.5"
   ]
  },
  {
   "cell_type": "code",
   "execution_count": 12,
   "metadata": {},
   "outputs": [],
   "source": [
    "from linetools.spectra.xspectrum1d import XSpectrum1D"
   ]
  },
  {
   "cell_type": "code",
   "execution_count": 13,
   "metadata": {},
   "outputs": [],
   "source": [
    "error = np.full([len(waves)], 0.001)\n",
    "continuum = np.ones([len(waves)])"
   ]
  },
  {
   "cell_type": "code",
   "execution_count": 14,
   "metadata": {},
   "outputs": [
    {
     "name": "stderr",
     "output_type": "stream",
     "text": [
      "/Users/reformedfolloweroftheichorgodbel-shamharoth/python/linetools/linetools/spectra/xspectrum1d.py:253: UserWarning: No unit given to wavelength, assuming Angstroms.\n",
      "  warnings.warn(\"No unit given to wavelength, assuming Angstroms.\")\n"
     ]
    }
   ],
   "source": [
    "spectrum = XSpectrum1D(waves, fluxx, sig=error, co=continuum)"
   ]
  },
  {
   "cell_type": "code",
   "execution_count": 15,
   "metadata": {},
   "outputs": [
    {
     "name": "stdout",
     "output_type": "stream",
     "text": [
      "Wrote spectrum to ./thing.fits\n"
     ]
    }
   ],
   "source": [
    "spectrum.write_to_fits('./thing.fits')"
   ]
  },
  {
   "cell_type": "markdown",
   "metadata": {},
   "source": [
    "# Ta-Da!"
   ]
  }
 ],
 "metadata": {
  "kernelspec": {
   "display_name": "Python 3",
   "language": "python",
   "name": "python3"
  },
  "language_info": {
   "codemirror_mode": {
    "name": "ipython",
    "version": 3
   },
   "file_extension": ".py",
   "mimetype": "text/x-python",
   "name": "python",
   "nbconvert_exporter": "python",
   "pygments_lexer": "ipython3",
   "version": "3.7.3"
  }
 },
 "nbformat": 4,
 "nbformat_minor": 2
}
