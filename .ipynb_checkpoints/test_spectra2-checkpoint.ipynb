{
 "cells": [
  {
   "cell_type": "code",
   "execution_count": null,
   "metadata": {},
   "outputs": [],
   "source": [
    "#######################################################################\n",
    "###\n",
    "###  convenience function: cosvoigt(waves,params)\n",
    "###  params format (each entry a list): [restwave,coldens,bval,z,vel]\n",
    "###  restwave (of an actual line), column density, bval - width of Gaussian, z (bulk), velocity (relative to z)\n",
    "###\n",
    "#######################################################################\n",
    "\n",
    "from __future__ import print_function, absolute_import, division, unicode_literals\n",
    "\n",
    "from PyQt5 import QtGui, QtCore\n",
    "\n",
    "from joebvp import joebgoodies as jbg\n",
    "import numpy as np\n",
    "from scipy.signal import convolve\n",
    "from scipy.special import wofz\n",
    "from scipy.optimize import least_squares\n",
    "import scipy.stats\n",
    "from joebvp.atomicdata import atomicdata\n",
    "from astropy import constants as const\n",
    "import sys,os\n",
    "try:\n",
    "    import joebvp_cfg as cfg\n",
    "except:\n",
    "    print(\"joebvp.makevoigt: No local joebvp_cfg.py found, using default cfg.py file from joebvp.\")\n",
    "    from joebvp import cfg\n",
    "from sklearn.cluster import MeanShift, estimate_bandwidth\n",
    "import astropy.units as u\n",
    "from astropy.io import ascii\n",
    "from astropy.table import Table\n",
    "from linetools.spectra.lsf import LSF\n",
    "import pandas as pd\n",
    "from glob import glob\n",
    "from joebvp import VPmeasure\n",
    "from joebvp.makevoigt import voigt, convolvecos\n",
    "# joebvpfit.joebvpfit needs this one:\n",
    "from joebvp import nmpfit\n",
    "\n",
    "from joebvp import stevebvpfit\n",
    "\n",
    "ln2=np.log(2)\n",
    "c=const.c.value/1e3"
   ]
  },
  {
   "cell_type": "markdown",
   "metadata": {},
   "source": [
    "# stevebvpfit"
   ]
  },
  {
   "cell_type": "code",
   "execution_count": null,
   "metadata": {},
   "outputs": [],
   "source": [
    "from joebvp import stevebvpfit"
   ]
  },
  {
   "cell_type": "code",
   "execution_count": null,
   "metadata": {},
   "outputs": [],
   "source": [
    "specfile = 'blah.fits'\n",
    "paramfile = 'partest.txt'"
   ]
  },
  {
   "cell_type": "code",
   "execution_count": null,
   "metadata": {},
   "outputs": [],
   "source": [
    "from joebvp import PretendVPmeasure\n",
    "wave,flux,fitpars,fiterrors,parinfo,linecmts = PretendVPmeasure.go(specfile,paramfile)"
   ]
  },
  {
   "cell_type": "code",
   "execution_count": null,
   "metadata": {},
   "outputs": [],
   "source": [
    "stevebvpfit.stevebvpfit(wave, flux, fiterrors, parinfo, linepars=fitpars, xall=fitpars[:5])"
   ]
  },
  {
   "cell_type": "code",
   "execution_count": null,
   "metadata": {},
   "outputs": [],
   "source": [
    "%matplotlib inline\n",
    "import matplotlib.pylab as plt"
   ]
  },
  {
   "cell_type": "code",
   "execution_count": null,
   "metadata": {},
   "outputs": [],
   "source": [
    "plt.plot(waves, success, '-p')\n",
    "plt.xlabel('wavelength (Angstrom)')\n",
    "plt.ylabel('flux (pirateninjas)')\n",
    "plt.title('Test Feature');"
   ]
  },
  {
   "cell_type": "markdown",
   "metadata": {},
   "source": [
    "# joebvpfit"
   ]
  },
  {
   "cell_type": "code",
   "execution_count": null,
   "metadata": {},
   "outputs": [],
   "source": [
    "from joebvp import joebvpfit"
   ]
  },
  {
   "cell_type": "code",
   "execution_count": null,
   "metadata": {},
   "outputs": [],
   "source": [
    "joefitpars, joefiterrors = joebvpfit.joebvpfit(waves, success, normsig, lineparams, paramflags)"
   ]
  },
  {
   "cell_type": "code",
   "execution_count": null,
   "metadata": {},
   "outputs": [],
   "source": [
    "joefitpars"
   ]
  },
  {
   "cell_type": "code",
   "execution_count": null,
   "metadata": {},
   "outputs": [],
   "source": [
    "linelist=joefitpars[:5]\n",
    "possible_success = cosvoigt(waves,linelist)\n",
    "\n",
    "plt.figure()\n",
    "plt.plot(spectrum.wavelength, success, '-p')\n",
    "plt.plot(waves, possible_success)\n",
    "plt.xlabel('wavelength (Angstrom)')\n",
    "plt.ylabel('flux (pirateninjas)')\n",
    "plt.title('Test Feature');"
   ]
  },
  {
   "cell_type": "markdown",
   "metadata": {},
   "source": [
    "# Ta-Da!"
   ]
  }
 ],
 "metadata": {
  "kernelspec": {
   "display_name": "Python 3",
   "language": "python",
   "name": "python3"
  },
  "language_info": {
   "codemirror_mode": {
    "name": "ipython",
    "version": 3
   },
   "file_extension": ".py",
   "mimetype": "text/x-python",
   "name": "python",
   "nbconvert_exporter": "python",
   "pygments_lexer": "ipython3",
   "version": "3.7.3"
  }
 },
 "nbformat": 4,
 "nbformat_minor": 2
}
