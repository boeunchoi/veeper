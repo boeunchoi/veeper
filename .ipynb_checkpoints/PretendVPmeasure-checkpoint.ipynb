{
 "cells": [
  {
   "cell_type": "code",
   "execution_count": 8,
   "metadata": {},
   "outputs": [],
   "source": [
    "import sys\n",
    "import numpy as np\n",
    "from astropy.io import fits as pf\n",
    "from astropy.io import ascii\n",
    "from linetools.spectra.io import readspec\n",
    "from joebvp import cfg\n",
    "from joebvp import joebvpfit"
   ]
  },
  {
   "cell_type": "code",
   "execution_count": 9,
   "metadata": {},
   "outputs": [],
   "source": [
    "#def __init__(self,specfilename,parfilename=None,wave1=None,wave2=None,numchunks=8,parent=None):\n",
    "\n",
    "specfilename = 'blah.fits'\n",
    "parfilename = 'partest.txt'\n",
    "\n",
    "### Initialize stuff\n",
    "line_dict = {}\n",
    "fitpars = None\n",
    "parinfo = None\n",
    "linecmts = None\n",
    "wave1 = None\n",
    "wave2 = None\n",
    "numchunks = 8\n",
    "spls = []\n",
    "labeltog = 1\n",
    "pixtog = 0\n",
    "restog = 1\n",
    "fitconvtog = 0\n",
    "### Read in spectrum and list of lines to fit\n",
    "specfilename=specfilename\n",
    "spectrum = readspec(specfilename)\n",
    "wave=spectrum.wavelength.value\n",
    "normflux=spectrum.flux/spectrum.co\n",
    "normsig=spectrum.sig/spectrum.co\n",
    "cfg.spectrum = spectrum\n",
    "cfg.wave=wave\n",
    "cfg.normflux=normflux\n",
    "cfg.filename=specfilename"
   ]
  },
  {
   "cell_type": "code",
   "execution_count": 14,
   "metadata": {},
   "outputs": [],
   "source": [
    "linelist = ascii.read(parfilename, )"
   ]
  },
  {
   "cell_type": "code",
   "execution_count": 15,
   "metadata": {},
   "outputs": [
    {
     "data": {
      "text/html": [
       "<i>Table length=1</i>\n",
       "<table id=\"table120848442128\" class=\"table-striped table-bordered table-condensed\">\n",
       "<thead><tr><th>specfile</th><th>restwave</th><th>zsys</th><th>col</th><th>bval</th><th>vel</th><th>nflag</th><th>bflag</th><th>vflag</th><th>vlim1</th><th>vlim2</th></tr></thead>\n",
       "<thead><tr><th>str9</th><th>float64</th><th>float64</th><th>float64</th><th>float64</th><th>int64</th><th>int64</th><th>int64</th><th>int64</th><th>float64</th><th>float64</th></tr></thead>\n",
       "<tr><td>blah.fits</td><td>1215.67</td><td>-3e-05</td><td>14.0</td><td>23.3</td><td>0</td><td>0</td><td>0</td><td>0</td><td>-64.0</td><td>64.0</td></tr>\n",
       "</table>"
      ],
      "text/plain": [
       "<Table length=1>\n",
       " specfile restwave   zsys    col     bval  ... nflag bflag vflag  vlim1   vlim2 \n",
       "   str9   float64  float64 float64 float64 ... int64 int64 int64 float64 float64\n",
       "--------- -------- ------- ------- ------- ... ----- ----- ----- ------- -------\n",
       "blah.fits  1215.67  -3e-05    14.0    23.3 ...     0     0     0   -64.0    64.0"
      ]
     },
     "execution_count": 15,
     "metadata": {},
     "output_type": "execute_result"
    }
   ],
   "source": [
    "linelist"
   ]
  },
  {
   "cell_type": "code",
   "execution_count": 16,
   "metadata": {},
   "outputs": [],
   "source": [
    "fitpars,fiterrors,parinfo,linecmts = joebvpfit.readpars(parfilename)"
   ]
  },
  {
   "cell_type": "code",
   "execution_count": 17,
   "metadata": {},
   "outputs": [
    {
     "data": {
      "text/plain": [
       "[[1215.67], [14.0], [23.3], [-3e-05], [0], [-64.0], [64.0]]"
      ]
     },
     "execution_count": 17,
     "metadata": {},
     "output_type": "execute_result"
    }
   ],
   "source": [
    "fitpars"
   ]
  },
  {
   "cell_type": "code",
   "execution_count": null,
   "metadata": {},
   "outputs": [],
   "source": [
    "#if not parfilename==None:\n",
    "#    initialpars(parfilename)"
   ]
  }
 ],
 "metadata": {
  "kernelspec": {
   "display_name": "Python 3",
   "language": "python",
   "name": "python3"
  },
  "language_info": {
   "codemirror_mode": {
    "name": "ipython",
    "version": 3
   },
   "file_extension": ".py",
   "mimetype": "text/x-python",
   "name": "python",
   "nbconvert_exporter": "python",
   "pygments_lexer": "ipython3",
   "version": "3.7.4"
  }
 },
 "nbformat": 4,
 "nbformat_minor": 2
}
