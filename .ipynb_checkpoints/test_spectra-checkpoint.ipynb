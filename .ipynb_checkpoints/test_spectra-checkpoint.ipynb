{
 "cells": [
  {
   "cell_type": "markdown",
   "metadata": {},
   "source": [
    "# A multipurpose notebook"
   ]
  },
  {
   "cell_type": "code",
   "execution_count": 1,
   "metadata": {},
   "outputs": [
    {
     "name": "stdout",
     "output_type": "stream",
     "text": [
      "read_sets: Using set file -- \n",
      "  /Users/bobzimmerman/anaconda3/lib/python3.7/site-packages/linetools/lists/sets/llist_v1.2.ascii\n",
      "Loading abundances from Asplund2009\n",
      "Abundances are relative by number on a logarithmic scale with H=12\n"
     ]
    },
    {
     "name": "stderr",
     "output_type": "stream",
     "text": [
      "/Users/bobzimmerman/Dropbox/veeper/test/joebvp/atomicdata/__init__.py:16: VisibleDeprecationWarning: Reading unicode strings without specifying the encoding argument is deprecated. Set the encoding, use None for the system default.\n",
      "  vernerlist=np.genfromtxt(jbvp_path+'/atomicdata/verner6.txt',dtype=None,delimiter=[10,8,3,4,3,2,9,6])\n"
     ]
    },
    {
     "name": "stdout",
     "output_type": "stream",
     "text": [
      "linetools.lists.parse: Reading linelist --- \n",
      "   /Users/bobzimmerman/anaconda3/lib/python3.7/site-packages/linetools/data/lines/morton03_table2.fits.gz\n",
      "linetools.lists.parse: Reading linelist --- \n",
      "   /Users/bobzimmerman/anaconda3/lib/python3.7/site-packages/linetools/data/lines/verner96_tab1.fits.gz\n"
     ]
    },
    {
     "name": "stderr",
     "output_type": "stream",
     "text": [
      "/Users/bobzimmerman/Dropbox/veeper/test/joebvp/atomicdata/atomicdata.py:12: VisibleDeprecationWarning: Reading unicode strings without specifying the encoding argument is deprecated. Set the encoding, use None for the system default.\n",
      "  vernerlist=np.genfromtxt(jbvp_path+'/atomicdata/verner6.txt',dtype=None,delimiter=[10,8,3,4,3,2,9,6])\n"
     ]
    },
    {
     "name": "stdout",
     "output_type": "stream",
     "text": [
      "linetools.lists.parse: Reading linelist --- \n",
      "   /Users/bobzimmerman/anaconda3/lib/python3.7/site-packages/linetools/data/lines/morton03_table2.fits.gz\n",
      "linetools.lists.parse: Reading linelist --- \n",
      "   /Users/bobzimmerman/anaconda3/lib/python3.7/site-packages/linetools/data/lines/verner96_tab1.fits.gz\n",
      "joebvp.makevoigt: No local joebvp_cfg.py found, using default cfg.py file from joebvp.\n",
      "joebvp.VPmeasure: No local joebvp_cfg.py found, using default cfg.py file from joebvp.\n",
      "joebvp.makevoigt: No local joebvp_cfg.py found, using default cfg.py file from joebvp.\n",
      "joebvp.utils: No local joebvp_cfg.py found, using default cfg.py file from joebvp.\n",
      "joebvp.joebvpfit: No local joebvp_cfg.py found, using default cfg.py file form joebvp.\n",
      "/Users/bobzimmerman/Dropbox/veeper/test/joebvp\n"
     ]
    }
   ],
   "source": [
    "#######################################################################\n",
    "###\n",
    "###  convenience function: cosvoigt(waves,params)\n",
    "###  params format (each entry a list): [restwave,coldens,bval,z,vel]\n",
    "###  restwave (of an actual line), column density, bval - width of Gaussian, z (bulk), velocity (relative to z)\n",
    "###\n",
    "#######################################################################\n",
    "# get wavelength from some cos spectrum, use segment of +-10 angstrom of feature <--- prior to parameters\n",
    "\n",
    "from __future__ import print_function, absolute_import, division, unicode_literals\n",
    "\n",
    "from PyQt5 import QtGui, QtCore\n",
    "\n",
    "from joebvp import joebgoodies as jbg\n",
    "import numpy as np\n",
    "from scipy.signal import convolve\n",
    "from scipy.special import wofz\n",
    "from scipy.optimize import least_squares\n",
    "import scipy.stats\n",
    "from joebvp.atomicdata import atomicdata\n",
    "from astropy import constants as const\n",
    "import sys,os\n",
    "try:\n",
    "    import joebvp_cfg as cfg\n",
    "except:\n",
    "    print(\"joebvp.makevoigt: No local joebvp_cfg.py found, using default cfg.py file from joebvp.\")\n",
    "    from joebvp import cfg\n",
    "from sklearn.cluster import MeanShift, estimate_bandwidth\n",
    "import astropy.units as u\n",
    "from astropy.io import ascii\n",
    "from astropy.table import Table\n",
    "from linetools.spectra.lsf import LSF\n",
    "import pandas as pd\n",
    "from glob import glob\n",
    "from joebvp import VPmeasure\n",
    "from joebvp.makevoigt import voigt, convolvecos\n",
    "# joebvpfit.joebvpfit needs this one:\n",
    "from joebvp import nmpfit\n",
    "\n",
    "ln2=np.log(2)\n",
    "c=const.c.value/1e3"
   ]
  },
  {
   "cell_type": "code",
   "execution_count": 2,
   "metadata": {},
   "outputs": [],
   "source": [
    "# function that I need to use:\n",
    "\n",
    "def cosvoigt(vwave,vpars):\n",
    "    from joebvp import joebvpfit\n",
    "    pars,info=joebvpfit.initlinepars(vpars[3],vpars[0],vpars,initinfo=[0,0,0])\n",
    "    cfg.fitidx=joebvpfit.fitpix(vwave, pars)\n",
    "    cfg.wave=vwave\n",
    "    vflux=np.zeros(len(vwave))+1.\n",
    "    factor=voigt(vwave,vpars[0],vpars[1],vpars[2],vpars[3],vpars[4])\n",
    "    convfactor=convolvecos(vwave,factor,vpars[0],vpars[3])\n",
    "    vflux*=convfactor\n",
    "    return vflux"
   ]
  },
  {
   "cell_type": "markdown",
   "metadata": {},
   "source": [
    "Starting with one trial line:"
   ]
  },
  {
   "cell_type": "code",
   "execution_count": 3,
   "metadata": {},
   "outputs": [],
   "source": [
    "# Some random line parameters:\n",
    "wrest,col_dens,b,zfit,vcenter= 1215.67,14.0, 23.3, -3e-05, 0\n",
    "\n",
    "linelist = np.atleast_2d([wrest, col_dens, b, zfit, vcenter])\n",
    "vlim = 64.0\n",
    "# oops need that x-axis component too:\n",
    "waves = np.linspace(wrest-10, wrest+10, 2001)\n",
    "fluxx = np.full(2001,1, dtype=float)\n",
    "#waves = np.ndarray([waves], dtype=float)\n",
    "#fluxx = np.ndarray([flux], dtype=float)"
   ]
  },
  {
   "cell_type": "code",
   "execution_count": 4,
   "metadata": {},
   "outputs": [],
   "source": [
    "from linetools.spectra.xspectrum1d import XSpectrum1D"
   ]
  },
  {
   "cell_type": "code",
   "execution_count": 5,
   "metadata": {},
   "outputs": [],
   "source": [
    "error = np.full([len(waves)], 0.001)\n",
    "continuum = np.ones([len(waves)])"
   ]
  },
  {
   "cell_type": "code",
   "execution_count": 6,
   "metadata": {},
   "outputs": [
    {
     "name": "stderr",
     "output_type": "stream",
     "text": [
      "/Users/bobzimmerman/anaconda3/lib/python3.7/site-packages/linetools/spectra/xspectrum1d.py:253: UserWarning: No unit given to wavelength, assuming Angstroms.\n",
      "  warnings.warn(\"No unit given to wavelength, assuming Angstroms.\")\n"
     ]
    }
   ],
   "source": [
    "spectrum = XSpectrum1D(waves, fluxx, sig=error, co=continuum)"
   ]
  },
  {
   "cell_type": "code",
   "execution_count": 7,
   "metadata": {},
   "outputs": [
    {
     "name": "stdout",
     "output_type": "stream",
     "text": [
      "Wrote spectrum to ./blah.fits\n"
     ]
    }
   ],
   "source": [
    "spectrum.write_to_fits('./blah.fits')"
   ]
  },
  {
   "cell_type": "code",
   "execution_count": 8,
   "metadata": {},
   "outputs": [],
   "source": [
    "### Initialize stuff\n",
    "line_dict = {}\n",
    "fitpars = None\n",
    "parinfo = None\n",
    "linecmts = None\n",
    "wave1 = wrest-10\n",
    "wave2 = wrest+10\n",
    "spls = []\n",
    "labeltog = 1\n",
    "pixtog = 0\n",
    "restog = 1\n",
    "fitconvtog = 0\n",
    "wave=spectrum.wavelength.value\n",
    "normflux=spectrum.flux/spectrum.co\n",
    "normsig=spectrum.sig/spectrum.co\n",
    "cfg.spectrum = spectrum\n",
    "cfg.wave=wave\n",
    "cfg.normflux=normflux"
   ]
  },
  {
   "cell_type": "code",
   "execution_count": 9,
   "metadata": {
    "scrolled": true
   },
   "outputs": [],
   "source": [
    "success = cosvoigt(waves,linelist.T)"
   ]
  },
  {
   "cell_type": "code",
   "execution_count": 10,
   "metadata": {},
   "outputs": [],
   "source": [
    "#%matplotlib notebook\n",
    "%matplotlib inline\n",
    "import matplotlib.pylab as plt"
   ]
  },
  {
   "cell_type": "code",
   "execution_count": 11,
   "metadata": {},
   "outputs": [
    {
     "data": {
      "image/png": "[encoded data removed]",
      "text/plain": [
       "<Figure size 432x288 with 1 Axes>"
      ]
     },
     "metadata": {
      "needs_background": "light"
     },
     "output_type": "display_data"
    }
   ],
   "source": [
    "plt.plot(waves, success, '-p')\n",
    "plt.xlabel('wavelength (Angstrom)')\n",
    "plt.ylabel('flux (pirateninjas)')\n",
    "plt.title('Test Feature');"
   ]
  },
  {
   "cell_type": "code",
   "execution_count": 12,
   "metadata": {},
   "outputs": [],
   "source": [
    "# Keeping noisier flux around just in case, though probably won't be needed:\n",
    "\n",
    "np.random.seed(42)\n",
    "new_flux = fluxx*9.5*10**(-17)+np.random.rand(fluxx.shape[0])*10**(-17)"
   ]
  },
  {
   "cell_type": "markdown",
   "metadata": {},
   "source": [
    "# Fitting lines that we've made:"
   ]
  },
  {
   "cell_type": "markdown",
   "metadata": {},
   "source": [
    "Old method:"
   ]
  },
  {
   "cell_type": "code",
   "execution_count": 13,
   "metadata": {},
   "outputs": [],
   "source": [
    "from joebvp import joebvpfit"
   ]
  },
  {
   "cell_type": "code",
   "execution_count": 14,
   "metadata": {},
   "outputs": [
    {
     "name": "stdout",
     "output_type": "stream",
     "text": [
      "\n"
     ]
    }
   ],
   "source": [
    "'''\n",
    "\n",
    "Docstrings for these functions' inputs:\n",
    "\n",
    "Parameters\n",
    "----------\n",
    "wave\n",
    "flux\n",
    "sig\n",
    "linepars\n",
    "parinfo\n",
    "\n",
    "...and that's it. Thanks Joe.\n",
    "\n",
    "So the trick is now to figure out how each of those translates to what we have from our test absorption line\n",
    "up there.\n",
    "\n",
    "'''\n",
    "print()"
   ]
  },
  {
   "cell_type": "code",
   "execution_count": 15,
   "metadata": {},
   "outputs": [
    {
     "data": {
      "text/plain": [
       "array([1205.67, 1205.68, 1205.69, ..., 1225.65, 1225.66, 1225.67])"
      ]
     },
     "execution_count": 15,
     "metadata": {},
     "output_type": "execute_result"
    }
   ],
   "source": [
    "# wave\n",
    "\n",
    "waves"
   ]
  },
  {
   "cell_type": "code",
   "execution_count": 16,
   "metadata": {},
   "outputs": [
    {
     "data": {
      "text/plain": [
       "array([1., 1., 1., ..., 1., 1., 1.])"
      ]
     },
     "execution_count": 16,
     "metadata": {},
     "output_type": "execute_result"
    }
   ],
   "source": [
    "# what the flux\n",
    "\n",
    "fluxx"
   ]
  },
  {
   "cell_type": "code",
   "execution_count": 17,
   "metadata": {},
   "outputs": [
    {
     "data": {
      "text/latex": [
       "$[0.001,~0.001,~0.001,~\\dots,~0.001,~0.001,~0.001] \\; \\mathrm{}$"
      ],
      "text/plain": [
       "<Quantity [0.001, 0.001, 0.001, ..., 0.001, 0.001, 0.001]>"
      ]
     },
     "execution_count": 17,
     "metadata": {},
     "output_type": "execute_result"
    }
   ],
   "source": [
    "# sig\n",
    "\n",
    "normsig"
   ]
  },
  {
   "cell_type": "code",
   "execution_count": 18,
   "metadata": {},
   "outputs": [
    {
     "data": {
      "text/plain": [
       "[[1215.67], [14.0], [23.3], [-3e-05], [0.1], [-64.0], [64.0]]"
      ]
     },
     "execution_count": 18,
     "metadata": {},
     "output_type": "execute_result"
    }
   ],
   "source": [
    "# linepars/fitpars\n",
    "\n",
    "lineparams = np.atleast_2d([[wrest], [col_dens], [b], [zfit], [0.1], [-vlim], [vlim]]).tolist()\n",
    "lineparams"
   ]
  },
  {
   "cell_type": "code",
   "execution_count": 19,
   "metadata": {},
   "outputs": [],
   "source": [
    "# this is to say: rest wavelength and redshift are fixed, the other three can be fit\n",
    "\n",
    "paramflags = [[1],[0],[0],[1],[0]]"
   ]
  },
  {
   "cell_type": "code",
   "execution_count": 20,
   "metadata": {},
   "outputs": [],
   "source": [
    "# parinfo\n",
    "\n",
    "manualparinfo = joebvpfit.prepparinfo(lineparams[:5], paramflags)"
   ]
  },
  {
   "cell_type": "markdown",
   "metadata": {},
   "source": [
    "#### Automatic joebvpfit"
   ]
  },
  {
   "cell_type": "code",
   "execution_count": 21,
   "metadata": {},
   "outputs": [
    {
     "name": "stdout",
     "output_type": "stream",
     "text": [
      "Iter       1    CHI-SQUARE =  103.0729289  DOF =  69\n",
      "   P0 = 1215.67  \n",
      "   P1 = 14  \n",
      "   P2 = 23.3  \n",
      "   P3 = -3e-05  \n",
      "   P4 = 0.1  \n",
      "Iter       2    CHI-SQUARE =  0.0006229474686  DOF =  69\n",
      "   P0 = 1215.67  \n",
      "   P1 = 13.99998732  \n",
      "   P2 = 23.30040146  \n",
      "   P3 = -3e-05  \n",
      "   P4 = -4.211988416e-05  \n",
      "Iter       3    CHI-SQUARE =  4.102911262e-07  DOF =  69\n",
      "   P0 = 1215.67  \n",
      "   P1 = 13.9999997  \n",
      "   P2 = 23.30000366  \n",
      "   P3 = -3e-05  \n",
      "   P4 = 1.741594826e-08  \n",
      "Iter       4    CHI-SQUARE =  3.392732601e-11  DOF =  69\n",
      "   P0 = 1215.67  \n",
      "   P1 = 14  \n",
      "   P2 = 23.30000003  \n",
      "   P3 = -3e-05  \n",
      "   P4 = -1.65345975e-11  \n",
      "Iter       5    CHI-SQUARE =  2.813455625e-15  DOF =  69\n",
      "   P0 = 1215.67  \n",
      "   P1 = 14  \n",
      "   P2 = 23.3  \n",
      "   P3 = -3e-05  \n",
      "   P4 = -7.098403669e-14  \n",
      "\n",
      "Fit results: \n",
      "\n",
      "1215.67\t -0.000030\t 14.000\t 23.300\t 2.0186e-15\n",
      " \t  \t  \t 0.001\t 0.017\t 0.01 \n",
      "\n"
     ]
    },
    {
     "name": "stderr",
     "output_type": "stream",
     "text": [
      "/Users/bobzimmerman/Dropbox/veeper/test/joebvp/nmpfit.py:2203: VisibleDeprecationWarning: `rank` is deprecated; use the `ndim` attribute or function instead. To find the rank of a matrix see `numpy.linalg.matrix_rank`.\n",
      "  if numpy.rank(rr) != 2:\n"
     ]
    }
   ],
   "source": [
    "joefitpars, joefiterrors = joebvpfit.joebvpfit(waves, success, normsig, lineparams, paramflags)"
   ]
  },
  {
   "cell_type": "code",
   "execution_count": 22,
   "metadata": {},
   "outputs": [
    {
     "data": {
      "text/plain": [
       "[[1215.67],\n",
       " [13.999999999999776],\n",
       " [23.30000000000276],\n",
       " [-3e-05],\n",
       " [2.0186074961569493e-15],\n",
       " [-64.0],\n",
       " [64.0]]"
      ]
     },
     "execution_count": 22,
     "metadata": {},
     "output_type": "execute_result"
    }
   ],
   "source": [
    "joefitpars"
   ]
  },
  {
   "cell_type": "code",
   "execution_count": 23,
   "metadata": {},
   "outputs": [
    {
     "data": {
      "image/png": "[encoded data removed]",
      "text/plain": [
       "<Figure size 432x288 with 1 Axes>"
      ]
     },
     "metadata": {
      "needs_background": "light"
     },
     "output_type": "display_data"
    }
   ],
   "source": [
    "linelist=joefitpars[:5]\n",
    "possible_success = cosvoigt(waves,linelist)\n",
    "\n",
    "plt.figure()\n",
    "plt.plot(spectrum.wavelength, success, '-p')\n",
    "plt.plot(waves, possible_success)\n",
    "plt.xlabel('wavelength (Angstrom)')\n",
    "plt.ylabel('flux (pirateninjas)')\n",
    "plt.title('Test Feature');"
   ]
  },
  {
   "cell_type": "code",
   "execution_count": 24,
   "metadata": {},
   "outputs": [],
   "source": [
    "linelist=joefitpars[:5]\n",
    "possible_success = cosvoigt(waves,linelist)"
   ]
  },
  {
   "cell_type": "code",
   "execution_count": 25,
   "metadata": {},
   "outputs": [
    {
     "data": {
      "image/png": "[encoded data removed]",
      "text/plain": [
       "<Figure size 432x288 with 1 Axes>"
      ]
     },
     "metadata": {
      "needs_background": "light"
     },
     "output_type": "display_data"
    }
   ],
   "source": [
    "plt.figure()\n",
    "plt.plot(spectrum.wavelength, success, '-p')\n",
    "plt.plot(waves, possible_success)\n",
    "plt.xlabel('wavelength (Angstrom)')\n",
    "plt.ylabel('flux (pirateninjas)')\n",
    "plt.title('Test Feature');"
   ]
  },
  {
   "cell_type": "markdown",
   "metadata": {},
   "source": [
    "#### Manual joebvpfit"
   ]
  },
  {
   "cell_type": "code",
   "execution_count": 26,
   "metadata": {},
   "outputs": [
    {
     "name": "stdout",
     "output_type": "stream",
     "text": [
      "\n"
     ]
    }
   ],
   "source": [
    "'''\n",
    "# trying to do joebvpfit manually:\n",
    "\n",
    "#fitpars, fiterrors = joebvpfit.joebvpfit(waves, fluxx, normsig, lineparams, paramflags)\n",
    "\n",
    "xtol=1e-11\n",
    "gtol=1e-11\n",
    "# Only feed to the fitter the parameters that go into the model\n",
    "partofit=lineparams[:5]\n",
    "parinfo=joebvpfit.prepparinfo(partofit,paramflags)\n",
    "# Save the velocity windows to add back to the parameter array\n",
    "vlim1=lineparams[5] ; vlim2=lineparams[6]\n",
    "# Get atomic data\n",
    "lam,fosc,gam=atomicdata.setatomicdata(lineparams[0])\n",
    "cfg.lams=lam ; cfg.fosc=fosc ; cfg.gam=gam\n",
    "# Set fit regions\n",
    "cfg.fitidx = joebvpfit.fitpix(waves, lineparams)\n",
    "# Prep parameters for fitter\n",
    "partofit=joebvpfit.unfoldpars(partofit)\n",
    "modelvars={'x':waves,'y':fluxx,'err':normsig}\n",
    "# Do the fit and translate the parameters back into the received format\n",
    "m=nmpfit.mpfit(joebvpfit.voigterrfunc,partofit,functkw=modelvars,parinfo=parinfo,nprint=1,quiet=0,fastnorm=1,ftol=1e-10,xtol=xtol,gtol=gtol)\n",
    "if m.status <= 0: print('Fitting error:',m.errmsg)\n",
    "fitpars = joebvpfit.foldpars(m.params)\n",
    "fiterrors = joebvpfit.foldpars(m.perror)\n",
    "# Add velocity windows back to parameter array\n",
    "fitpars.append(vlim1) ; fitpars.append(vlim2)\n",
    "\n",
    "\n",
    "print('\\nFit results: \\n')\n",
    "for i in range(len(fitpars[0])):\n",
    "    print(jbg.tabdelimrow([round(fitpars[0][i],2),jbg.decimalplaces(fitpars[3][i],5),jbg.roundto(fitpars[1][i],5),jbg.roundto(fitpars[2][i],5),jbg.roundto(fitpars[4][i],5)])[:-2])\n",
    "    print(jbg.tabdelimrow([' ',' ',' ',round(fiterrors[1][i],3),round(fiterrors[2][i],3),round(fiterrors[4][i],3)]))\n",
    "'''\n",
    "print()"
   ]
  },
  {
   "cell_type": "markdown",
   "metadata": {},
   "source": [
    "# stevebvpfit"
   ]
  },
  {
   "cell_type": "code",
   "execution_count": 27,
   "metadata": {},
   "outputs": [],
   "source": [
    "from scipy.optimize import leastsq"
   ]
  },
  {
   "cell_type": "code",
   "execution_count": 28,
   "metadata": {},
   "outputs": [],
   "source": [
    "def stevevoigterrfunc(x, xall0, notfixed, indices, wavelength, flux, sig):\n",
    "    xall = xall0.copy()\n",
    "\n",
    "    xall[notfixed] = x[indices]\n",
    "    \n",
    "    folded_xall = joebvpfit.foldpars(xall)\n",
    "    model = joebvpfit.voigtfunc(wavelength, folded_xall)\n",
    "    status = 0\n",
    "    residuals = (flux[cfg.fitidx] - model[cfg.fitidx])/sig[cfg.fitidx]\n",
    "    return(residuals)"
   ]
  },
  {
   "cell_type": "code",
   "execution_count": 29,
   "metadata": {},
   "outputs": [],
   "source": [
    "def various_indices(parinfo):\n",
    "    \n",
    "    \"\"\"\n",
    "    inputs:\n",
    "    \n",
    "    parinfo: list of dictionaries\n",
    "    \n",
    "    outputs:\n",
    "    \n",
    "    pfixed = list of fixed/unfixedness of parameters.\n",
    "    ptied = list indicating where there's a tied parameter.\n",
    "    ifree = list of indices of free parameters.\n",
    "    indices = index indicating which other tied parameter a given parameter is tied to (if I remember correctly)\n",
    "    \n",
    "    \"\"\"\n",
    "    \n",
    "    npar = len(parinfo)\n",
    "\n",
    "    indices = np.zeros([npar])\n",
    "\n",
    "    ## FIXED parameters ?\n",
    "    pfixed = parameterInformationFunction(parinfo, 'fixed', default=0, n=npar)\n",
    "\n",
    "    ptied = parameterInformationFunction(parinfo, 'tied', default='', n=npar)\n",
    "\n",
    "    qanytied = 0\n",
    "    for i in range(npar):\n",
    "        ptied[i] = ptied[i].strip()\n",
    "        if (ptied[i] != ''): qanytied = 1\n",
    "\n",
    "    kk = 0\n",
    "    for ii in range(len(indices)):\n",
    "        if pfixed[ii] == 1:\n",
    "            continue\n",
    "        else:\n",
    "            if ptied[ii] == '':\n",
    "\n",
    "                indices[ii] = kk\n",
    "\n",
    "                kk = kk+1\n",
    "            else:\n",
    "                ll = int(ptied[ii][2:-1])\n",
    "                indices[ii] = indices[ll]\n",
    "\n",
    "    ## Finish up the free parameters\n",
    "    ifree = np.where(np.array(pfixed) == 0)\n",
    "    nfree = len(ifree)\n",
    "    if nfree == 0:\n",
    "        raise ValueError('no free parameters.')\n",
    "\n",
    "    inotfixed = np.where(np.array(pfixed) == 0)\n",
    "\n",
    "    indices = indices[inotfixed]\n",
    "\n",
    "    for i in range(npar):\n",
    "        pfixed[i] = pfixed[i] or (ptied[i] != '') ## Tied parameters are also effectively fixed\n",
    "\n",
    "    return(pfixed, ptied, ifree, indices)"
   ]
  },
  {
   "cell_type": "code",
   "execution_count": 30,
   "metadata": {},
   "outputs": [],
   "source": [
    "def parameterInformationFunction(parinfo=None, key='a', default=None, n=0):\n",
    "    #if (self.debug): print('Entering parinfo...')\n",
    "    \n",
    "    # makes sure n is the length of parinfo:\n",
    "    if (n == 0) and (parinfo is not None): n = len(parinfo)\n",
    "        \n",
    "    # returns nothing if parinfo is empty:    \n",
    "    if (n == 0):\n",
    "        values = default\n",
    "        return(values)\n",
    "    \n",
    "    # makes a list of the values of the specified key/item for each parameter \n",
    "    values = []\n",
    "    for i in range(n):\n",
    "        if ((parinfo is not None) and (key in parinfo[i])):\n",
    "            values.append(parinfo[i][key])\n",
    "        else:\n",
    "            values.append(default)\n",
    "    \n",
    "    # Convert to numeric arrays if possible\n",
    "    test = default\n",
    "    if (type(default) == list): test=default[0]\n",
    "    if (type(test) == int):\n",
    "        values = np.asarray(values, dtype=np.int)\n",
    "    elif (type(test) == float):\n",
    "        values = np.asarray(values, dtype=np.float)\n",
    "    \n",
    "    return(values)"
   ]
  },
  {
   "cell_type": "code",
   "execution_count": 31,
   "metadata": {},
   "outputs": [],
   "source": [
    "def stevebvpfit(wave, flux, sig, flags, linepars=None, xall=None):\n",
    "    \n",
    "    if (linepars is None):\n",
    "        raise ValueError('Must pass parameters in linepars.')\n",
    "        return\n",
    "    \n",
    "    # Only feed to the fitter the parameters that go into the model\n",
    "    partofit=linepars[:5]\n",
    "\n",
    "    parinfo=joebvpfit.prepparinfo(partofit,flags)\n",
    "    \n",
    "    npar = len(parinfo)\n",
    "\n",
    "    ## Be sure that PARINFO is of the right type\n",
    "    if (parinfo is not None):\n",
    "        if (type(parinfo) != list):\n",
    "            raise ValueError('PARINFO must be a list of dictionaries.')\n",
    "            return\n",
    "            \n",
    "        else:\n",
    "            if (type(parinfo[0]) != dict):\n",
    "                raise ValueError('PARINFO must be a list of dictionaries.')\n",
    "                return\n",
    "    \n",
    "    ## If the parameters were not specified at the command line, then\n",
    "    ## extract them from PARINFO\n",
    "    \n",
    "    if (xall is None):\n",
    "\n",
    "        xall = parameterInformationFunction(parinfo, 'value')\n",
    "        if (xall is None):\n",
    "            raise ValueError('either xall or PARINFO(*)[\"value\"] must be supplied.')\n",
    "            \n",
    "    # function that deals with tied and fixed parameters and creates \n",
    "    # indices list to go from non-redundant to redundant array:\n",
    "    \n",
    "    indices_and_friends = various_indices(parinfo) # this part definitely works!\n",
    "    \n",
    "    pfixed, ptied, ifree, indices = indices_and_friends\n",
    "    indices = indices.astype(np.int)\n",
    "    ifree = np.squeeze(ifree)\n",
    "        ## Compose only VARYING parameters\n",
    "    x = np.squeeze(np.take(xall, ifree))  ## x is the set of free parameters\n",
    "\n",
    "    ## LIMITED parameters ?\n",
    "    limited = parameterInformationFunction(parinfo, 'limited', default=[0,0], n=npar)\n",
    "    limits = parameterInformationFunction(parinfo, 'limits', default=[0.,0.], n=npar)\n",
    "\n",
    "    if (limited is not None) and (limits is not None):\n",
    "\n",
    "        ## Error checking on limits in parinfo\n",
    "        wh = np.nonzero((limited[:,0] & (xall < limits[:,0])) | (limited[:,1] & (xall > limits[:,1])))\n",
    "        if (len(wh[0]) > 0):\n",
    "            raise ValueError('parameters are not within PARINFO limits')\n",
    "            return\n",
    "        \n",
    "        wh = np.nonzero((limited[:,0] & limited[:,1]) & (limits[:,0] >= limits[:,1]) & (pfixed == 0))\n",
    "        if (len(wh[0]) > 0):\n",
    "            raise ValueError('PARINFO parameter limits are not consistent')\n",
    "            return\n",
    "\n",
    "        ## Transfer structure values to local variables\n",
    "        qulim = np.take(limited[:,1], ifree)\n",
    "        ulim  = np.take(limits [:,1], ifree)\n",
    "        qllim = np.take(limited[:,0], ifree)\n",
    "        llim  = np.take(limits [:,0], ifree)\n",
    "    \n",
    "    # Save the velocity windows to add back to the parameter array\n",
    "    vlim1=linepars[5] ; vlim2=linepars[6]\n",
    "    # Get atomic data\n",
    "    lam,fosc,gam=atomicdata.setatomicdata(linepars[0])\n",
    "    cfg.lams=lam ; cfg.fosc=fosc ; cfg.gam=gam\n",
    "    # Set fit regions\n",
    "    cfg.fitidx = joebvpfit.fitpix(wave, linepars)\n",
    "\n",
    "    # Prep parameters for fitter\n",
    "    \n",
    "    partofit=joebvpfit.unfoldpars(partofit)\n",
    "\n",
    "    modelvars={'l':wave,'y':flux,'err':sig}\n",
    "    \n",
    "    bnds = (np.squeeze(np.where(qllim==1, llim, -np.inf)), np.squeeze(np.where(qulim==1, ulim, np.inf)))\n",
    "\n",
    "    arg = [xall, ifree, indices, modelvars['l'], modelvars['y'], modelvars['err']]\n",
    "    \n",
    "    # here is where fitting happens:\n",
    "    \n",
    "    m = least_squares(stevevoigterrfunc, x, bounds=bnds, args=arg, kwargs={}, verbose=True)\n",
    "\n",
    "    if m.status <= 0: print('Fitting error:',m.errmsg)\n",
    "\n",
    "    xall_fitted = xall.copy()\n",
    "\n",
    "    xall_fitted[ifree] = m['x'][indices]\n",
    "\n",
    "    fitpars = joebvpfit.foldpars(xall_fitted)\n",
    "\n",
    "    #fiterrors = joebvpfit.foldpars(m.perror) <--- this is not part of scipy, so I'm leaving it out for now\n",
    "    \n",
    "    # Add velocity windows back to parameter array\n",
    "    fitpars.append(vlim1) ; fitpars.append(vlim2)\n",
    "\n",
    "    # part that presents results in a readable format:\n",
    "    print('\\nFit results: \\n')\n",
    "    for i in range(len(fitpars[0])):\n",
    "        print(jbg.tabdelimrow([round(fitpars[0][i],2),jbg.decimalplaces(fitpars[3][i],5),jbg.roundto(fitpars[1][i],5),jbg.roundto(fitpars[2][i],5),jbg.roundto(fitpars[4][i],5)])[:-2])\n",
    "        #print(jbg.tabdelimrow([' ',' ',' ',round(fiterrors[1][i],3),round(fiterrors[2][i],3),round(fiterrors[4][i],3)]))\n",
    "\n",
    "    return fitpars#,fiterrors"
   ]
  },
  {
   "cell_type": "markdown",
   "metadata": {},
   "source": [
    "# Success (well except the error parts)!"
   ]
  },
  {
   "cell_type": "code",
   "execution_count": 32,
   "metadata": {},
   "outputs": [
    {
     "name": "stdout",
     "output_type": "stream",
     "text": [
      "Loading abundances from Asplund2009\n",
      "Abundances are relative by number on a logarithmic scale with H=12\n",
      "`gtol` termination condition is satisfied.\n",
      "Function evaluations 4, initial cost 5.1536e+01, final cost 9.0018e-25, first-order optimality 7.22e-09.\n",
      "\n",
      "Fit results: \n",
      "\n",
      "1215.67\t -0.000030\t 14.000\t 23.300\t 3.1012e-15\n"
     ]
    }
   ],
   "source": [
    "sfitpars = stevebvpfit(waves, success, normsig, paramflags, linepars=lineparams, \n",
    "                                   xall=np.ravel(np.array(lineparams[:5])))"
   ]
  },
  {
   "cell_type": "code",
   "execution_count": 33,
   "metadata": {},
   "outputs": [],
   "source": [
    "# Plotting scipy parameters:\n",
    "\n",
    "linelist=joefitpars[:5]\n",
    "possible_success = cosvoigt(waves,linelist)"
   ]
  },
  {
   "cell_type": "markdown",
   "metadata": {},
   "source": [
    "## Error/Covar matrix stuff:"
   ]
  },
  {
   "cell_type": "code",
   "execution_count": 34,
   "metadata": {},
   "outputs": [],
   "source": [
    "def fiterrors(wave, flux, sig, flags, linepars=None, xall=None):\n",
    "    \n",
    "    if (linepars is None):\n",
    "        raise ValueError('Must pass parameters in linepars.')\n",
    "        return\n",
    "    \n",
    "    # Only feed to the fitter the parameters that go into the model\n",
    "    partofit=linepars[:5]\n",
    "\n",
    "    parinfo=joebvpfit.prepparinfo(partofit,flags)\n",
    "    \n",
    "    npar = len(parinfo)\n",
    "\n",
    "    ## Be sure that PARINFO is of the right type\n",
    "    if (parinfo is not None):\n",
    "        if (type(parinfo) != list):\n",
    "            raise ValueError('PARINFO must be a list of dictionaries.')\n",
    "            return\n",
    "            \n",
    "        else:\n",
    "            if (type(parinfo[0]) != dict):\n",
    "                raise ValueError('PARINFO must be a list of dictionaries.')\n",
    "                return\n",
    "    \n",
    "    ## If the parameters were not specified at the command line, then\n",
    "    ## extract them from PARINFO\n",
    "    \n",
    "    if (xall is None):\n",
    "\n",
    "        xall = parameterInformationFunction(parinfo, 'value')\n",
    "        if (xall is None):\n",
    "            raise ValueError('either xall or PARINFO(*)[\"value\"] must be supplied.')\n",
    "            \n",
    "    # function that deals with tied and fixed parameters and creates \n",
    "    # indices list to go from non-redundant to redundant array:\n",
    "    \n",
    "    indices_and_friends = various_indices(parinfo) # this part definitely works!\n",
    "    \n",
    "    pfixed, ptied, ifree, indices = indices_and_friends\n",
    "    indices = indices.astype(np.int)\n",
    "    ifree = np.squeeze(ifree)\n",
    "        ## Compose only VARYING parameters\n",
    "    x = np.squeeze(np.take(xall, ifree))  ## x is the set of free parameters\n",
    "\n",
    "    ## LIMITED parameters ?\n",
    "    limited = parameterInformationFunction(parinfo, 'limited', default=[0,0], n=npar)\n",
    "    limits = parameterInformationFunction(parinfo, 'limits', default=[0.,0.], n=npar)\n",
    "\n",
    "    if (limited is not None) and (limits is not None):\n",
    "\n",
    "        ## Error checking on limits in parinfo\n",
    "        wh = np.nonzero((limited[:,0] & (xall < limits[:,0])) | (limited[:,1] & (xall > limits[:,1])))\n",
    "        if (len(wh[0]) > 0):\n",
    "            raise ValueError('parameters are not within PARINFO limits')\n",
    "            return\n",
    "        \n",
    "        wh = np.nonzero((limited[:,0] & limited[:,1]) & (limits[:,0] >= limits[:,1]) & (pfixed == 0))\n",
    "        if (len(wh[0]) > 0):\n",
    "            raise ValueError('PARINFO parameter limits are not consistent')\n",
    "            return\n",
    "\n",
    "        ## Transfer structure values to local variables\n",
    "        qulim = np.take(limited[:,1], ifree)\n",
    "        ulim  = np.take(limits [:,1], ifree)\n",
    "        qllim = np.take(limited[:,0], ifree)\n",
    "        llim  = np.take(limits [:,0], ifree)\n",
    "    \n",
    "    # Save the velocity windows to add back to the parameter array\n",
    "    vlim1=linepars[5] ; vlim2=linepars[6]\n",
    "    # Get atomic data\n",
    "    lam,fosc,gam=atomicdata.setatomicdata(linepars[0])\n",
    "    cfg.lams=lam ; cfg.fosc=fosc ; cfg.gam=gam\n",
    "    # Set fit regions\n",
    "    cfg.fitidx = joebvpfit.fitpix(wave, linepars)\n",
    "\n",
    "    # Prep parameters for fitter\n",
    "    \n",
    "    partofit=joebvpfit.unfoldpars(partofit)\n",
    "\n",
    "    modelvars={'l':wave,'y':flux,'err':sig}\n",
    "    \n",
    "    bnds = (np.squeeze(np.where(qllim==1, llim, -np.inf)), np.squeeze(np.where(qulim==1, ulim, np.inf)))\n",
    "\n",
    "    arg = [xall, ifree, indices, modelvars['l'], modelvars['y'], modelvars['err']]\n",
    "    \n",
    "    # here is where fitting happens:\n",
    "    \n",
    "    m = least_squares(stevevoigterrfunc, x, bounds=bnds, args=arg, kwargs={}, verbose=True)\n",
    "\n",
    "    perr = calc_perrors(m.jac,ifree)\n",
    "    return(perr)"
   ]
  },
  {
   "cell_type": "code",
   "execution_count": 35,
   "metadata": {},
   "outputs": [],
   "source": [
    "def calc_covar(rr, ipvt=None, tol=1.e-14):\n",
    "\n",
    "    if np.rank(rr) != 2:\n",
    "        print('ERROR: r must be a two-dimensional matrix')\n",
    "        return(-1)\n",
    "    s = np.shape(rr)\n",
    "    n = s[0]\n",
    "    if s[0] != s[1]:\n",
    "        print('ERROR: r must be a square matrix')\n",
    "        return(-1)\n",
    "\n",
    "    if (ipvt is None): ipvt = np.arange(n)\n",
    "    r = rr.copy()\n",
    "    r.shape = [n,n]\n",
    "\n",
    "    ## For the inverse of r in the full upper triangle of r\n",
    "    l = -1\n",
    "    tolr = tol * abs(r[0,0])\n",
    "    for k in range(n):\n",
    "        if (abs(r[k,k]) <= tolr): break\n",
    "        r[k,k] = 1./r[k,k]\n",
    "        for j in range(k):\n",
    "            temp = r[k,k] * r[j,k]\n",
    "            r[j,k] = 0.\n",
    "            r[0:j+1,k] = r[0:j+1,k] - temp*r[0:j+1,j]\n",
    "        l = k\n",
    "\n",
    "    ## Form the full upper triangle of the inverse of (r transpose)*r\n",
    "    ## in the full upper triangle of r\n",
    "    if l >= 0:\n",
    "        for k in range(l+1):\n",
    "            for j in range(k):\n",
    "                temp = r[j,k]\n",
    "                r[0:j+1,j] = r[0:j+1,j] + temp*r[0:j+1,k]\n",
    "            temp = r[k,k]\n",
    "            r[0:k+1,k] = temp * r[0:k+1,k]\n",
    "\n",
    "    ## For the full lower triangle of the covariance matrix\n",
    "    ## in the strict lower triangle or and in wa\n",
    "    wa = np.repeat([r[0,0]], n)\n",
    "    for j in range(n):\n",
    "        jj = ipvt[j]\n",
    "        sing = j > l\n",
    "        for i in range(j+1):\n",
    "            if sing: r[i,j] = 0.\n",
    "            ii = ipvt[i]\n",
    "            if ii > jj: r[ii,jj] = r[i,j]\n",
    "            if ii < jj: r[jj,ii] = r[i,j]\n",
    "        wa[jj] = r[j,j]\n",
    "\n",
    "    ## Symmetrize the covariance matrix in r\n",
    "    for j in range(n):\n",
    "        r[0:j+1,j] = r[j,0:j+1]\n",
    "        r[j,j] = wa[j]\n",
    "\n",
    "    return(r)"
   ]
  },
  {
   "cell_type": "code",
   "execution_count": 36,
   "metadata": {},
   "outputs": [],
   "source": [
    "def calc_perrors(jac, ifree, numpars=5):\n",
    "    \n",
    "    n = len(ifree)\n",
    "    \n",
    "    rr = calc_covar(jac[0:n,0:n])\n",
    "    covar = np.zeros([numpars,numpars], np.float)\n",
    "    \n",
    "    for i in range(n):\n",
    "        idx = ifree+ifree[i]*numpars\n",
    "        np.put(covar, idx, rr[:,i])\n",
    "        \n",
    "    d = np.diagonal(covar)\n",
    "    \n",
    "    return(d)"
   ]
  },
  {
   "cell_type": "code",
   "execution_count": 37,
   "metadata": {},
   "outputs": [
    {
     "name": "stdout",
     "output_type": "stream",
     "text": [
      "Loading abundances from Asplund2009\n",
      "Abundances are relative by number on a logarithmic scale with H=12\n",
      "`gtol` termination condition is satisfied.\n",
      "Function evaluations 4, initial cost 5.1536e+01, final cost 9.0018e-25, first-order optimality 7.22e-09.\n"
     ]
    },
    {
     "name": "stderr",
     "output_type": "stream",
     "text": [
      "/Users/bobzimmerman/anaconda3/lib/python3.7/site-packages/ipykernel_launcher.py:3: VisibleDeprecationWarning: `rank` is deprecated; use the `ndim` attribute or function instead. To find the rank of a matrix see `numpy.linalg.matrix_rank`.\n",
      "  This is separate from the ipykernel package so we can avoid doing imports until\n"
     ]
    },
    {
     "data": {
      "text/plain": [
       "array([0.        , 0.00749702, 2.82660774, 0.        , 2.4493467 ])"
      ]
     },
     "execution_count": 37,
     "metadata": {},
     "output_type": "execute_result"
    }
   ],
   "source": [
    "sperrors = fiterrors(waves, success, normsig, paramflags, linepars=lineparams, \n",
    "                                   xall=np.ravel(np.array(lineparams[:5])))\n",
    "sperrors"
   ]
  },
  {
   "cell_type": "markdown",
   "metadata": {},
   "source": [
    "# Ta-Da!"
   ]
  }
 ],
 "metadata": {
  "kernelspec": {
   "display_name": "Python 3",
   "language": "python",
   "name": "python3"
  },
  "language_info": {
   "codemirror_mode": {
    "name": "ipython",
    "version": 3
   },
   "file_extension": ".py",
   "mimetype": "text/x-python",
   "name": "python",
   "nbconvert_exporter": "python",
   "pygments_lexer": "ipython3",
   "version": "3.7.3"
  }
 },
 "nbformat": 4,
 "nbformat_minor": 2
}
